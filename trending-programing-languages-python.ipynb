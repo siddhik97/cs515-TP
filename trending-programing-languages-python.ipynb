{
 "cells": [
  {
   "cell_type": "code",
   "execution_count": 5,
   "metadata": {},
   "outputs": [
    {
     "name": "stdout",
     "output_type": "stream",
     "text": [
      "The google.cloud.bigquery extension is already loaded. To reload it, use:\n",
      "  %reload_ext google.cloud.bigquery\n"
     ]
    }
   ],
   "source": [
    "import pandas as pd\n",
    "import pandas_gbq\n",
    "\n",
    "from github import Github\n",
    "from google.cloud import bigquery\n",
    "%load_ext google.cloud.bigquery"
   ]
  },
  {
   "cell_type": "code",
   "execution_count": 6,
   "metadata": {},
   "outputs": [],
   "source": [
    "import pydata_google_auth\n",
    "credentials = pydata_google_auth.get_user_credentials(\n",
    "    ['https://www.googleapis.com/auth/bigquery'],\n",
    ")"
   ]
  },
  {
   "cell_type": "code",
   "execution_count": 7,
   "metadata": {},
   "outputs": [],
   "source": [
    "year = 'year.2017'\n",
    "query = \"\"\"SELECT created_at, repo.name FROM githubarchive.{0} WHERE RAND() < 5/(SELECT COUNT(*) FROM `githubarchive.{0}`) ORDER BY created_at;\"\"\".format(year) \n",
    "project_id = 'cs515-term'"
   ]
  },
  {
   "cell_type": "code",
   "execution_count": 8,
   "metadata": {},
   "outputs": [
    {
     "name": "stderr",
     "output_type": "stream",
     "text": [
      "Downloading: 100%|██████████| 10/10 [00:00<00:00, 57.30rows/s]\n"
     ]
    }
   ],
   "source": [
    "import pandas as pd\n",
    "df = pd.read_gbq(query, project_id=project_id, dialect='standard', credentials=credentials)\n",
    "\n",
    "repos = df['name']\n",
    "dates = df['created_at']"
   ]
  },
  {
   "cell_type": "code",
   "execution_count": 9,
   "metadata": {},
   "outputs": [
    {
     "name": "stderr",
     "output_type": "stream",
     "text": [
      "100%|██████████| 10/10 [00:01<00:00,  6.45it/s]\n"
     ]
    }
   ],
   "source": [
    "from github import Github, UnknownObjectException, GithubException\n",
    "from tqdm import tqdm\n",
    "\n",
    "with open('password', 'r') as file:\n",
    "    password = file.read().replace('\\n', '')\n",
    "\n",
    "g = Github(\"siddhik97\", password)\n",
    "language_array = []\n",
    "\n",
    "for repo in tqdm(repos):\n",
    "    try:\n",
    "        repo_details = g.get_repo(repo)\n",
    "        if repo_details.language is not None:\n",
    "            language_array.append(repo_details.language)\n",
    "        else:\n",
    "            language_array.append(\"NaN\")\n",
    "    except (UnknownObjectException, GithubException):\n",
    "        language_array.append(\"NaN\")\n",
    "        pass"
   ]
  },
  {
   "cell_type": "code",
   "execution_count": null,
   "metadata": {},
   "outputs": [],
   "source": []
  }
 ],
 "metadata": {
  "kernelspec": {
   "display_name": "Python 3",
   "language": "python",
   "name": "python3"
  },
  "language_info": {
   "codemirror_mode": {
    "name": "ipython",
    "version": 3
   },
   "file_extension": ".py",
   "mimetype": "text/x-python",
   "name": "python",
   "nbconvert_exporter": "python",
   "pygments_lexer": "ipython3",
   "version": "3.7.7"
  }
 },
 "nbformat": 4,
 "nbformat_minor": 4
}
